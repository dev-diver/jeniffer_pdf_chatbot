{
 "cells": [
  {
   "cell_type": "code",
   "execution_count": 1,
   "id": "c7156fd2-7d03-4dfc-9bd2-dffa2657ef7a",
   "metadata": {},
   "outputs": [],
   "source": [
    "import os\n",
    "from dotenv import load_dotenv\n",
    "from langchain_community.chat_models import ChatOllama\n",
    "from langchain_community.embeddings import OllamaEmbeddings\n",
    "from langchain_community.vectorstores import FAISS\n",
    "from pathlib import Path\n",
    "from langchain.docstore.document import Document\n",
    "\n",
    "from langchain_core.output_parsers import StrOutputParser\n",
    "from langchain_teddynote import logging\n",
    "\n",
    "from langchain_core.output_parsers import StrOutputParser\n",
    "from langchain_core.runnables import RunnablePassthrough\n",
    "from langchain_core.prompts import PromptTemplate"
   ]
  },
  {
   "cell_type": "code",
   "execution_count": 2,
   "id": "cec4b7a7-2c57-4258-89a9-c91551a60602",
   "metadata": {},
   "outputs": [
    {
     "name": "stdout",
     "output_type": "stream",
     "text": [
      "LangSmith 추적을 시작합니다.\n",
      "[프로젝트명]\n",
      "jeniffer_RAG\n"
     ]
    }
   ],
   "source": [
    "load_dotenv()\n",
    "os.environ[\"LANGCHAIN_TRACING_V2\"] = os.getenv(\"LANGCHAIN_TRACING_V2\")\n",
    "os.environ[\"LANGCHAIN_API_KEY\"] = os.getenv(\"LANGCHAIN_API_KEY\")\n",
    "logging.langsmith(\"jeniffer_RAG\")"
   ]
  },
  {
   "cell_type": "code",
   "execution_count": 4,
   "id": "102549ec-e651-4166-b423-b0e29ceea43b",
   "metadata": {},
   "outputs": [
    {
     "name": "stdout",
     "output_type": "stream",
     "text": [
      "C:\\Users\\cywell\\Documents\\dev\\ai\\jeniffer\\data\\paragrah.txt\n"
     ]
    }
   ],
   "source": [
    "notebook_dir = Path(os.getcwd())\n",
    "project_dir = notebook_dir.parent\n",
    "data_dir = project_dir / \"data\"\n",
    "file_path = data_dir / \"paragrah.txt\"\n",
    "\n",
    "print(file_path)"
   ]
  },
  {
   "cell_type": "code",
   "execution_count": 7,
   "id": "30abab1e-7963-475a-8459-9d8b64432832",
   "metadata": {},
   "outputs": [
    {
     "name": "stdout",
     "output_type": "stream",
     "text": [
      "문서 로드 및 분할 완료\n"
     ]
    }
   ],
   "source": [
    "docs = []\n",
    "\n",
    "with open(file_path, \"r\", encoding=\"utf-8\") as file:\n",
    "    for line in file:\n",
    "        if line.strip():  # 빈 줄 제외\n",
    "            docs.append(Document(page_content=line.strip()))\n",
    "print(\"문서 로드 및 분할 완료\")"
   ]
  },
  {
   "cell_type": "code",
   "execution_count": 8,
   "id": "62a5a87b-220e-4271-b08f-4900dd237609",
   "metadata": {},
   "outputs": [],
   "source": [
    "embeddings = OllamaEmbeddings(model=\"EEVE:latest\")"
   ]
  },
  {
   "cell_type": "code",
   "execution_count": 9,
   "id": "5a36b79a-f4b9-4d83-a8c2-3b142804ba81",
   "metadata": {},
   "outputs": [
    {
     "ename": "NameError",
     "evalue": "name 'split_documents' is not defined",
     "output_type": "error",
     "traceback": [
      "\u001b[1;31m---------------------------------------------------------------------------\u001b[0m",
      "\u001b[1;31mNameError\u001b[0m                                 Traceback (most recent call last)",
      "Cell \u001b[1;32mIn[9], line 1\u001b[0m\n\u001b[1;32m----> 1\u001b[0m vectorstore \u001b[38;5;241m=\u001b[39m FAISS\u001b[38;5;241m.\u001b[39mfrom_documents(documents\u001b[38;5;241m=\u001b[39m\u001b[43msplit_documents\u001b[49m, embedding\u001b[38;5;241m=\u001b[39membeddings)\n\u001b[0;32m      2\u001b[0m \u001b[38;5;28mprint\u001b[39m(\u001b[38;5;124m\"\u001b[39m\u001b[38;5;124m벡터 저장소 생성 완료\u001b[39m\u001b[38;5;124m\"\u001b[39m)\n",
      "\u001b[1;31mNameError\u001b[0m: name 'split_documents' is not defined"
     ]
    }
   ],
   "source": [
    "vectorstore = FAISS.from_documents(documents=docs, embedding=embeddings)\n",
    "print(\"벡터 저장소 생성 완료\")"
   ]
  },
  {
   "cell_type": "code",
   "execution_count": 25,
   "id": "2d7db22f-36dd-45c0-b522-2eea7fb51f88",
   "metadata": {},
   "outputs": [
    {
     "name": "stdout",
     "output_type": "stream",
     "text": [
      "벡터 저장소 저장 완료\n"
     ]
    }
   ],
   "source": [
    "vectorstore.save_local(\"fasis_paragraph\")\n",
    "print(\"벡터 저장소 저장 완료\")"
   ]
  },
  {
   "cell_type": "code",
   "execution_count": 20,
   "id": "366b1e34-5ba8-43ec-af91-ba77eef00881",
   "metadata": {},
   "outputs": [],
   "source": [
    "retriever = vectorstore.as_retriever()"
   ]
  },
  {
   "cell_type": "code",
   "execution_count": 21,
   "id": "f25a79d5-ca04-4a54-8cf0-21cf7f2f6e21",
   "metadata": {},
   "outputs": [],
   "source": [
    "prompt = PromptTemplate.from_template(\n",
    "    \"\"\"You are an assistant for question-answering tasks. \n",
    "Use the following pieces of retrieved context to answer the question. \n",
    "If you don't know the answer, just say that you don't know. \n",
    "Answer in Korean.\n",
    "\n",
    "#Question: \n",
    "{question} \n",
    "#Context: \n",
    "{context} \n",
    "\n",
    "#Answer:\"\"\"\n",
    ")"
   ]
  },
  {
   "cell_type": "code",
   "execution_count": 22,
   "id": "7b8f91d9-82a5-4782-822c-e682d1dc72e9",
   "metadata": {},
   "outputs": [],
   "source": [
    "llm = ChatOllama(model=\"EEVE:latest\")"
   ]
  },
  {
   "cell_type": "code",
   "execution_count": 23,
   "id": "013ae8f3-94d5-42d7-8e98-b3c27b4469f9",
   "metadata": {},
   "outputs": [],
   "source": [
    "chain = (\n",
    "    {\"context\": retriever, \"question\": RunnablePassthrough()}\n",
    "    | prompt\n",
    "    | llm\n",
    "    | StrOutputParser()\n",
    ")"
   ]
  },
  {
   "cell_type": "code",
   "execution_count": 24,
   "id": "cf1d993f-43cd-4e69-b3ea-a89add163ae0",
   "metadata": {},
   "outputs": [
    {
     "name": "stdout",
     "output_type": "stream",
     "text": [
      "질문중\n",
      "애플리케이션 성능 관리(APM)은 애플리케이션 서비스의 성능을 효율적으로 모니터링하고 성능 장애에 대응하며 미래 성능을 예측하는 지속적인 관리 체계입니다. 제니퍼 에이전트는 제니퍼 서버로부터의 TCP 요청을 처리하기 위한 특정 포트 번호를 설정합니다. 기본 포트 번호는 7750이며, 에이전트의 Agent TCP Worker 수는 number_of_tcp_workers 옵션으로 지정되며 기본값은 5입니다.\n",
      "\n",
      "또한, UDP 방식 전송을 위해 데이터 크기(UDP Send Buffer Size)는 최대 64 KB로 설정됩니다. UDP 서버 호스트 이름, 제니퍼 에이전트 포트 번호, Agent TCP Worker의 수, tcp_io_timeout과 같은 관련 설정도 있습니다.\n",
      "\n",
      "제니퍼 에이전트는 제니퍼 서버에 네트워크 연결을 하며, 이러한 설정은 에이전트의 구성 옵션으로 할당됩니다. UDP 방식 전송을 위한 데이터 크기를 포함한 다양한 구성 옵션을 통해 제니퍼의 성능 모니터링 및 관리를 제어할 수 있습니다.\n",
      "\n",
      "제공된 문서의 맥락은 주로 제니퍼 서버와 에이전트, 그리고 관련된 구성 설정들에 대한 것입니다. 이 정보는 애플리케이션 성능 관리에 있어 중요한 역할을 하는 제니퍼 에이전트의 기능과 동작에 초점을 맞추고 있습니다.\n"
     ]
    }
   ],
   "source": [
    "print(\"질문중\")\n",
    "question = \"어플리케이션 성능 관리에 대해서 알려줘\"\n",
    "response = chain.invoke(question)\n",
    "print(response)"
   ]
  }
 ],
 "metadata": {
  "kernelspec": {
   "display_name": "Python 3 (ipykernel)",
   "language": "python",
   "name": "python3"
  },
  "language_info": {
   "codemirror_mode": {
    "name": "ipython",
    "version": 3
   },
   "file_extension": ".py",
   "mimetype": "text/x-python",
   "name": "python",
   "nbconvert_exporter": "python",
   "pygments_lexer": "ipython3",
   "version": "3.11.9"
  }
 },
 "nbformat": 4,
 "nbformat_minor": 5
}
