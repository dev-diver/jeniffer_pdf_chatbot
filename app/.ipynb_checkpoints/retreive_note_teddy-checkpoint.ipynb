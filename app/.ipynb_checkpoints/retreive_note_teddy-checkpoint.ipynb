{
 "cells": [
  {
   "cell_type": "code",
   "execution_count": 13,
   "id": "c7156fd2-7d03-4dfc-9bd2-dffa2657ef7a",
   "metadata": {},
   "outputs": [],
   "source": [
    "import os\n",
    "from dotenv import load_dotenv\n",
    "from langchain_community.chat_models import ChatOllama\n",
    "from langchain_community.embeddings import OllamaEmbeddings\n",
    "from langchain_community.vectorstores import FAISS\n",
    "from pathlib import Path\n",
    "\n",
    "from langchain_core.output_parsers import StrOutputParser\n",
    "from langchain_teddynote import logging\n",
    "\n",
    "from langchain_text_splitters import RecursiveCharacterTextSplitter\n",
    "from langchain_community.document_loaders import PyMuPDFLoader\n",
    "from langchain_core.output_parsers import StrOutputParser\n",
    "from langchain_core.runnables import RunnablePassthrough\n",
    "from langchain_core.prompts import PromptTemplate"
   ]
  },
  {
   "cell_type": "code",
   "execution_count": 14,
   "id": "cec4b7a7-2c57-4258-89a9-c91551a60602",
   "metadata": {},
   "outputs": [
    {
     "name": "stdout",
     "output_type": "stream",
     "text": [
      "LangSmith 추적을 시작합니다.\n",
      "[프로젝트명]\n",
      "jeniffer_RAG\n"
     ]
    }
   ],
   "source": [
    "load_dotenv()\n",
    "os.environ[\"LANGCHAIN_TRACING_V2\"] = os.getenv(\"LANGCHAIN_TRACING_V2\")\n",
    "os.environ[\"LANGCHAIN_API_KEY\"] = os.getenv(\"LANGCHAIN_API_KEY\")\n",
    "logging.langsmith(\"jeniffer_RAG\")"
   ]
  },
  {
   "cell_type": "code",
   "execution_count": 15,
   "id": "102549ec-e651-4166-b423-b0e29ceea43b",
   "metadata": {},
   "outputs": [
    {
     "name": "stdout",
     "output_type": "stream",
     "text": [
      "C:\\Users\\cywell\\Documents\\dev\\ai\\jeniffer\\data\\jeniffer1-2.pdf\n"
     ]
    }
   ],
   "source": [
    "notebook_dir = Path(os.getcwd())\n",
    "project_dir = notebook_dir.parent\n",
    "data_dir = project_dir / \"data\"\n",
    "file_path = data_dir / \"jeniffer1-2.pdf\"\n",
    "\n",
    "print(file_path)"
   ]
  },
  {
   "cell_type": "code",
   "execution_count": 16,
   "id": "30abab1e-7963-475a-8459-9d8b64432832",
   "metadata": {},
   "outputs": [
    {
     "name": "stdout",
     "output_type": "stream",
     "text": [
      "pdf load 완료\n"
     ]
    }
   ],
   "source": [
    "loader = PyMuPDFLoader(file_path)\n",
    "docs = loader.load()\n",
    "print(\"pdf load 완료\")"
   ]
  },
  {
   "cell_type": "code",
   "execution_count": 17,
   "id": "3376f7d0-3669-4458-9025-cda9f43d839e",
   "metadata": {},
   "outputs": [
    {
     "name": "stdout",
     "output_type": "stream",
     "text": [
      "문서 분할 완료\n"
     ]
    }
   ],
   "source": [
    "text_splitter = RecursiveCharacterTextSplitter(chunk_size=1000, chunk_overlap=50)\n",
    "split_documents = text_splitter.split_documents(docs)\n",
    "print(\"문서 분할 완료\")"
   ]
  },
  {
   "cell_type": "code",
   "execution_count": 18,
   "id": "62a5a87b-220e-4271-b08f-4900dd237609",
   "metadata": {},
   "outputs": [],
   "source": [
    "embeddings = OllamaEmbeddings(model=\"EEVE:latest\")"
   ]
  },
  {
   "cell_type": "code",
   "execution_count": 19,
   "id": "5a36b79a-f4b9-4d83-a8c2-3b142804ba81",
   "metadata": {},
   "outputs": [
    {
     "name": "stdout",
     "output_type": "stream",
     "text": [
      "벡터 저장소 생성 완료\n"
     ]
    }
   ],
   "source": [
    "vectorstore = FAISS.from_documents(documents=split_documents, embedding=embeddings)\n",
    "print(\"벡터 저장소 생성 완료\")"
   ]
  },
  {
   "cell_type": "code",
   "execution_count": 20,
   "id": "366b1e34-5ba8-43ec-af91-ba77eef00881",
   "metadata": {},
   "outputs": [],
   "source": [
    "retriever = vectorstore.as_retriever()"
   ]
  },
  {
   "cell_type": "code",
   "execution_count": 21,
   "id": "f25a79d5-ca04-4a54-8cf0-21cf7f2f6e21",
   "metadata": {},
   "outputs": [],
   "source": [
    "prompt = PromptTemplate.from_template(\n",
    "    \"\"\"You are an assistant for question-answering tasks. \n",
    "Use the following pieces of retrieved context to answer the question. \n",
    "If you don't know the answer, just say that you don't know. \n",
    "Answer in Korean.\n",
    "\n",
    "#Question: \n",
    "{question} \n",
    "#Context: \n",
    "{context} \n",
    "\n",
    "#Answer:\"\"\"\n",
    ")"
   ]
  },
  {
   "cell_type": "code",
   "execution_count": 22,
   "id": "7b8f91d9-82a5-4782-822c-e682d1dc72e9",
   "metadata": {},
   "outputs": [],
   "source": [
    "llm = ChatOllama(model=\"EEVE:latest\")"
   ]
  },
  {
   "cell_type": "code",
   "execution_count": 23,
   "id": "013ae8f3-94d5-42d7-8e98-b3c27b4469f9",
   "metadata": {},
   "outputs": [],
   "source": [
    "chain = (\n",
    "    {\"context\": retriever, \"question\": RunnablePassthrough()}\n",
    "    | prompt\n",
    "    | llm\n",
    "    | StrOutputParser()\n",
    ")"
   ]
  },
  {
   "cell_type": "code",
   "execution_count": null,
   "id": "cf1d993f-43cd-4e69-b3ea-a89add163ae0",
   "metadata": {},
   "outputs": [
    {
     "name": "stdout",
     "output_type": "stream",
     "text": [
      "질문중\n"
     ]
    }
   ],
   "source": [
    "print(\"질문중\")\n",
    "question = \"어플리케이션 성능 관리에 대해서 알려줘\"\n",
    "response = chain.invoke(question)\n",
    "print(response)"
   ]
  },
  {
   "cell_type": "code",
   "execution_count": null,
   "id": "2d7db22f-36dd-45c0-b522-2eea7fb51f88",
   "metadata": {},
   "outputs": [],
   "source": [
    "vectorstore.save_local(\"faiss_index\")\n",
    "print(\"벡터 저장소 저장 완료\")"
   ]
  }
 ],
 "metadata": {
  "kernelspec": {
   "display_name": "Python 3 (ipykernel)",
   "language": "python",
   "name": "python3"
  },
  "language_info": {
   "codemirror_mode": {
    "name": "ipython",
    "version": 3
   },
   "file_extension": ".py",
   "mimetype": "text/x-python",
   "name": "python",
   "nbconvert_exporter": "python",
   "pygments_lexer": "ipython3",
   "version": "3.11.9"
  }
 },
 "nbformat": 4,
 "nbformat_minor": 5
}
